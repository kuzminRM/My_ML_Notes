{
  "nbformat": 4,
  "nbformat_minor": 0,
  "metadata": {
    "colab": {
      "name": "GBM.ipynb",
      "provenance": [],
      "collapsed_sections": [],
      "authorship_tag": "ABX9TyONv3g+SFS+y6Wap5ZDqi6g"
    },
    "kernelspec": {
      "name": "python3",
      "display_name": "Python 3"
    },
    "language_info": {
      "name": "python"
    }
  },
  "cells": [
    {
      "cell_type": "markdown",
      "source": [
        "Почитать CatBoost и возможно LigthBoost"
      ],
      "metadata": {
        "id": "id5bUQHPPN40"
      }
    },
    {
      "cell_type": "markdown",
      "source": [
        "# Градиентный бустинг\n",
        "\n",
        "source:\n",
        "- в общем виде с формулами https://habr.com/ru/company/ods/blog/327250/\n",
        "- для чайников с конкретными реализациями алогоритма https://habr.com/ru/company/ods/blog/645887/\n",
        "\n",
        "---\n",
        "\n",
        "В чем суть: у нас есть какой-то базовый решающий алгоритм $h_t(\\vec{x})$, на практике обычно это дерево малогой глубины (в общем случае может быть что угодно). Мы берем обчуаем этот баовый решающий алгоритм на наших данных, затем вычисляем ошибки (остатки) и итеративно учим алгоритм $t$ раз передавая ему в качестве аргумента остатки. В этом объясняется \"Бустинг\"\n",
        "\n",
        "Слово \"Градиентный\" стоит тут потому, что в качстве остаков в общем случае используются функции потерь, которые могут принимать различные виды в роде $L=(y-\\hat{y})^2$ или $L=\\mid y-\\hat{y} \\mid$ и другие, более интересные, в роде логорифмических и экспоненциал. А на вход следующему решающему алгоритму $h_{t+1}(\\vec{x})$ подается не результат самой функции потерь, а ее градиент с знаком минус (также  называемый псеводо остатком) $\\vec{r}= - \\nabla L(y, \\hat{y})$. При этом $\\vec{r_0} = L(y, \\gamma)$, где $γ = const$, задаваемая пользователем. Иногда градиентный бустинг рассматривают как покоординатный градиентный спуск в пространстве функций.\n",
        "\n",
        "Бывает полезно взвешивание классов, например, при imbalanced классах. Тогда $\\vec{r} = - \\vec{ω} \\times \\nabla L(y, \\hat{y})$.\n",
        "\n",
        "Важно чтобы базовый решающий алгоритм был weak learner'ом для того, чтобы модель не переобучалась на первой итерации, в следствии чего получальись около нулевые остатки, а функции потерь получались близкими к нулю, как и их градиенты.\n",
        "\n",
        "Регуляризация градиентного бустинга. Для того, чтобы ослабить переобучение градиентного бустинга, применяются следующие техники:\n",
        "- Subsampling. Мы обучаем каждый следующий weak learner не на всей обучающей выборке, а на случайной подвыборке. В этом случае градиентный бустинг называется стохастическим;\n",
        "- Shrinkage. Мы умножаем результат полученный от каждой базовой функции на некоторое число меньше 1 (learning rate). Таким образом мы укорачиваем шаг в направлении градиента;\n",
        "- Регуляризация самой базовой функции (как, например, уменьшение максимального кол-ва признаков max_features у дерева)."
      ],
      "metadata": {
        "id": "xD7cSO26YhYj"
      }
    },
    {
      "cell_type": "markdown",
      "source": [
        "# XGBoost"
      ],
      "metadata": {
        "id": "4kJctXKR8NsN"
      }
    },
    {
      "cell_type": "markdown",
      "source": [
        "## Параметры:\n",
        "\n",
        "### Общие\n",
        "- booster [default= gbtree ] Can be gbtree, gblinear or dart; gbtree and dart use tree based models while gblinear uses linear functions. dart add dropout techniques, что позволяет получить better results in some situations, [special dart params](https://xgboost.readthedocs.io/en/stable/parameter.html#additional-parameters-for-dart-booster-booster-dart)\n",
        "\n",
        "- verbosity [default=1] Valid values are 0 (silent), 1 (warning), 2 (info), 3 (debug).\n",
        "\n",
        "- seed [default=0] Random number seed\n",
        "\n",
        "### Деревья\n",
        "- eta [default=0.3, alias: learning_rate] Step size shrinkage\n",
        "- max_depth [default=6]\n",
        "- subsample [default=1] Subsample ratio of the training instances. Setting it to 0.5 means that XGBoost would randomly sample half of the training data prior to growing trees. and this will prevent overfitting.\n",
        "  - sampling_method [default= uniform] The method to use to sample the training instances.\n",
        "    - uniform: each training instance has an equal probability of being selected. Typically set subsample >= 0.5 for good results.\n",
        "    - gradient_based: the selection probability for each training instance is proportional to the regularized absolute value of gradients (more specifically, ). subsample may be set to as low as 0.1 without loss of model accuracy. Note that this sampling method is only supported when tree_method is set to gpu_hist; other tree methods only support uniform sampling.\n",
        "- lambda [default=1, alias: reg_lambda] L2 regularization term on weights.\n",
        "- alpha [default=0, alias: reg_alpha] L1 regularization term on weights.\n",
        "- tree_method [defoult='auto'] exact: Exact greedy algorithm. Enumerates all split candidates. approx: Approximate greedy algorithm using quantile sketch and gradient histogram. hist: Faster histogram optimized approximate greedy algorithm. gpu_hist: GPU implementation of hist algorithm.\n",
        "- num_parallel_tree, [default=1] - Number of parallel trees constructed during each iteration. This option is used to support boosted random forest.\n",
        "\n",
        "### Linear Booster\n",
        "- lambda [default=0, alias: reg_lambda] L2 regularization term on weights.\n",
        "- alpha [default=0, alias: reg_alpha] L1 regularization term on weights.\n",
        "- feature_selector [default= cyclic] Feature selection and ordering method\n",
        "  - cyclic: Deterministic selection by cycling through features one at a time.\n",
        "  - shuffle: Similar to cyclic but with random feature shuffling prior to each update.\n",
        "  - random: A random (with replacement) coordinate selector.\n",
        "  - greedy: Select coordinate with the greatest gradient magnitude. It has O(num_feature^2) complexity. It is fully deterministic. It allows restricting the selection to top_k features per group with the largest magnitude of univariate weight change, by setting the top_k parameter. Doing so would reduce the complexity to O(num_feature*top_k).\n",
        "  - thrifty: оптимизированный жадный\n",
        "\n",
        "### Learning tasks\n",
        "\n",
        "objective [default=reg:squarederror]\n",
        "\n",
        "- reg:squarederror: regression with squared loss.\n",
        "\n",
        "- reg:squaredlogerror: regression with squared log loss. All input labels are required to be greater than -1. Also, see metric rmsle for possible issue with this objective.\n",
        "\n",
        "- reg:logistic: logistic regression\n",
        "\n",
        "- reg:pseudohubererror: regression with Pseudo Huber loss, a twice differentiable alternative to absolute loss.\n",
        "\n",
        "- reg:gamma: gamma regression with log-link. Output is a mean of gamma distribution. It might be useful, e.g., for modeling insurance claims severity, or for any outcome that might be gamma-distributed.\n",
        "\n",
        "- reg:tweedie: Tweedie regression with log-link. It might be useful, e.g., for modeling total loss in insurance, or for any outcome that might be Tweedie-distributed.\n",
        "\n",
        "- binary:logistic: logistic regression for binary classification, output probability\n",
        "\n",
        "- binary:logitraw: logistic regression for binary classification, output score before logistic transformation\n",
        "\n",
        "- binary:hinge: hinge loss for binary classification. This makes predictions of 0 or 1, rather than producing probabilities.\n",
        "\n",
        "- count:poisson –poisson regression for count data, output mean of Poisson distribution\n",
        "\n",
        "  - max_delta_step is set to 0.7 by default in Poisson regression (used to safeguard optimization)\n",
        "\n",
        "- survival:cox: Cox regression for right censored survival time data (negative values are considered right censored). Note that predictions are returned on the hazard ratio scale (i.e., as HR = exp(marginal_prediction) in the proportional hazard function h(t) = h0(t) * HR).\n",
        "\n",
        "- survival:aft: Accelerated failure time model for censored survival time data. See Survival Analysis with Accelerated Failure Time for details.\n",
        "\n",
        "  - aft_loss_distribution: Probability Density Function used by survival:aft objective and aft-nloglik metric.\n",
        "\n",
        "- multi:softmax: set XGBoost to do multiclass classification using the softmax objective, you also need to set num_class(number of classes)\n",
        "\n",
        "- multi:softprob: same as softmax, but output a vector of ndata * nclass, which can be further reshaped to ndata * nclass matrix. The result contains predicted probability of each data point belonging to each class.\n",
        "\n",
        "- rank:pairwise: Use LambdaMART to perform pairwise ranking where the pairwise loss is minimized\n",
        "\n",
        "- rank:ndcg: Use LambdaMART to perform list-wise ranking where Normalized Discounted Cumulative Gain (NDCG) is maximized\n",
        "\n",
        "- rank:map: Use LambdaMART to perform list-wise ranking where Mean Average Precision (MAP) is maximized"
      ],
      "metadata": {
        "id": "Xy5StXH_Ep-o"
      }
    },
    {
      "cell_type": "markdown",
      "source": [
        "Для сохраниея модели можно воспользоваться их методом. Иногда лучше все же pickle, посткольку XGBoost сохраняют не все, например, кастомную ф-цию потерь."
      ],
      "metadata": {
        "id": "4p7JZ1gCAiQb"
      }
    },
    {
      "cell_type": "code",
      "source": [
        "bst.save_model('model_file_name.json')\n",
        "\n",
        "bst = xgb.Booster({'nthread': 4})  # init model\n",
        "bst.load_model('model.bin')  # load data\n",
        "\n",
        "# dump model with feature map\n",
        "bst.dump_model('dump.raw.txt', 'featmap.txt')"
      ],
      "metadata": {
        "id": "en4PXkSiAuoF"
      },
      "execution_count": null,
      "outputs": []
    },
    {
      "cell_type": "markdown",
      "source": [
        "# Пример использования классификатора определенного в стиле sklearn"
      ],
      "metadata": {
        "id": "8h09NmRVW606"
      }
    },
    {
      "cell_type": "code",
      "source": [
        "import xgboost as xgb\n",
        "from sklearn.datasets import load_breast_cancer\n",
        "from sklearn.model_selection import train_test_split\n",
        "from sklearn.metrics import accuracy_score\n",
        "from matplotlib import pyplot as plt\n",
        "\n",
        "# load data\n",
        "X, y = load_breast_cancer(return_X_y=True)\n",
        "X_train, X_test, y_train, y_test = train_test_split(X, y)\n",
        "\n",
        "# fit model in sklearn style\n",
        "model = xgb.XGBClassifier()\n",
        "eval_set = [(X_train, y_train), (X_test, y_test)]\n",
        "model.fit(X_train, y_train, eval_metric=[\"error\", \"logloss\"], eval_set=eval_set, verbose=True)\n",
        "\n",
        "# retrieve performance metrics\n",
        "results = model.evals_result()\n",
        "epochs = len(results['validation_0']['error'])\n",
        "x_axis = range(epochs)\n",
        "\n",
        "# plot error\n",
        "fig, (ax1, ax2) = plt.subplots(1, 2, figsize=(10, 4))\n",
        "ax1.plot(x_axis, results['validation_0']['error'], label='Train')\n",
        "ax1.plot(x_axis, results['validation_1']['error'], label='Test')\n",
        "ax1.legend()\n",
        "ax1.set_title('XGBoost error')\n",
        "\n",
        "# plot logloss\n",
        "ax2.plot(x_axis, results['validation_0']['logloss'], label='Train')\n",
        "ax2.plot(x_axis, results['validation_1']['logloss'], label='Test')\n",
        "ax2.legend()\n",
        "ax2.set_title('XGBoost logloss')\n",
        "plt.show()"
      ],
      "metadata": {
        "colab": {
          "base_uri": "https://localhost:8080/",
          "height": 1000
        },
        "id": "Oa9J9zULW7aY",
        "outputId": "f3d7fef2-1a3e-4fe0-bf39-1b8472bb2fe5"
      },
      "execution_count": 11,
      "outputs": [
        {
          "output_type": "stream",
          "name": "stdout",
          "text": [
            "[0]\tvalidation_0-error:0.035211\tvalidation_0-logloss:0.611242\tvalidation_1-error:0.013986\tvalidation_1-logloss:0.60796\n",
            "[1]\tvalidation_0-error:0.028169\tvalidation_0-logloss:0.544344\tvalidation_1-error:0.027972\tvalidation_1-logloss:0.539888\n",
            "[2]\tvalidation_0-error:0.028169\tvalidation_0-logloss:0.488861\tvalidation_1-error:0.027972\tvalidation_1-logloss:0.483808\n",
            "[3]\tvalidation_0-error:0.030516\tvalidation_0-logloss:0.440187\tvalidation_1-error:0.027972\tvalidation_1-logloss:0.433797\n",
            "[4]\tvalidation_0-error:0.028169\tvalidation_0-logloss:0.400012\tvalidation_1-error:0.027972\tvalidation_1-logloss:0.393697\n",
            "[5]\tvalidation_0-error:0.030516\tvalidation_0-logloss:0.364566\tvalidation_1-error:0.027972\tvalidation_1-logloss:0.357868\n",
            "[6]\tvalidation_0-error:0.025822\tvalidation_0-logloss:0.331164\tvalidation_1-error:0.027972\tvalidation_1-logloss:0.324744\n",
            "[7]\tvalidation_0-error:0.021127\tvalidation_0-logloss:0.302654\tvalidation_1-error:0.027972\tvalidation_1-logloss:0.297326\n",
            "[8]\tvalidation_0-error:0.025822\tvalidation_0-logloss:0.277729\tvalidation_1-error:0.027972\tvalidation_1-logloss:0.270911\n",
            "[9]\tvalidation_0-error:0.021127\tvalidation_0-logloss:0.25492\tvalidation_1-error:0.013986\tvalidation_1-logloss:0.249033\n",
            "[10]\tvalidation_0-error:0.021127\tvalidation_0-logloss:0.235475\tvalidation_1-error:0.013986\tvalidation_1-logloss:0.22885\n",
            "[11]\tvalidation_0-error:0.021127\tvalidation_0-logloss:0.21794\tvalidation_1-error:0.013986\tvalidation_1-logloss:0.210988\n",
            "[12]\tvalidation_0-error:0.021127\tvalidation_0-logloss:0.20248\tvalidation_1-error:0.013986\tvalidation_1-logloss:0.195314\n",
            "[13]\tvalidation_0-error:0.018779\tvalidation_0-logloss:0.187289\tvalidation_1-error:0.013986\tvalidation_1-logloss:0.182048\n",
            "[14]\tvalidation_0-error:0.016432\tvalidation_0-logloss:0.175093\tvalidation_1-error:0.013986\tvalidation_1-logloss:0.169792\n",
            "[15]\tvalidation_0-error:0.016432\tvalidation_0-logloss:0.162983\tvalidation_1-error:0.013986\tvalidation_1-logloss:0.157071\n",
            "[16]\tvalidation_0-error:0.011737\tvalidation_0-logloss:0.152197\tvalidation_1-error:0.013986\tvalidation_1-logloss:0.146015\n",
            "[17]\tvalidation_0-error:0.016432\tvalidation_0-logloss:0.143361\tvalidation_1-error:0.013986\tvalidation_1-logloss:0.137547\n",
            "[18]\tvalidation_0-error:0.00939\tvalidation_0-logloss:0.134101\tvalidation_1-error:0.013986\tvalidation_1-logloss:0.127938\n",
            "[19]\tvalidation_0-error:0.00939\tvalidation_0-logloss:0.125165\tvalidation_1-error:0.013986\tvalidation_1-logloss:0.119151\n",
            "[20]\tvalidation_0-error:0.007042\tvalidation_0-logloss:0.117216\tvalidation_1-error:0.013986\tvalidation_1-logloss:0.111336\n",
            "[21]\tvalidation_0-error:0.00939\tvalidation_0-logloss:0.110228\tvalidation_1-error:0.013986\tvalidation_1-logloss:0.104722\n",
            "[22]\tvalidation_0-error:0.007042\tvalidation_0-logloss:0.1046\tvalidation_1-error:0.013986\tvalidation_1-logloss:0.098506\n",
            "[23]\tvalidation_0-error:0.007042\tvalidation_0-logloss:0.098596\tvalidation_1-error:0.013986\tvalidation_1-logloss:0.092569\n",
            "[24]\tvalidation_0-error:0.007042\tvalidation_0-logloss:0.092943\tvalidation_1-error:0.013986\tvalidation_1-logloss:0.088245\n",
            "[25]\tvalidation_0-error:0.007042\tvalidation_0-logloss:0.08875\tvalidation_1-error:0.013986\tvalidation_1-logloss:0.084318\n",
            "[26]\tvalidation_0-error:0.007042\tvalidation_0-logloss:0.084134\tvalidation_1-error:0.013986\tvalidation_1-logloss:0.08114\n",
            "[27]\tvalidation_0-error:0.007042\tvalidation_0-logloss:0.07989\tvalidation_1-error:0.013986\tvalidation_1-logloss:0.076858\n",
            "[28]\tvalidation_0-error:0.007042\tvalidation_0-logloss:0.076451\tvalidation_1-error:0.013986\tvalidation_1-logloss:0.073487\n",
            "[29]\tvalidation_0-error:0.007042\tvalidation_0-logloss:0.072842\tvalidation_1-error:0.013986\tvalidation_1-logloss:0.070326\n",
            "[30]\tvalidation_0-error:0.007042\tvalidation_0-logloss:0.069566\tvalidation_1-error:0.013986\tvalidation_1-logloss:0.067789\n",
            "[31]\tvalidation_0-error:0.007042\tvalidation_0-logloss:0.06661\tvalidation_1-error:0.013986\tvalidation_1-logloss:0.065062\n",
            "[32]\tvalidation_0-error:0.007042\tvalidation_0-logloss:0.063117\tvalidation_1-error:0.013986\tvalidation_1-logloss:0.062191\n",
            "[33]\tvalidation_0-error:0.007042\tvalidation_0-logloss:0.060492\tvalidation_1-error:0.013986\tvalidation_1-logloss:0.05975\n",
            "[34]\tvalidation_0-error:0.007042\tvalidation_0-logloss:0.057975\tvalidation_1-error:0.013986\tvalidation_1-logloss:0.057732\n",
            "[35]\tvalidation_0-error:0.007042\tvalidation_0-logloss:0.055841\tvalidation_1-error:0.013986\tvalidation_1-logloss:0.055805\n",
            "[36]\tvalidation_0-error:0.007042\tvalidation_0-logloss:0.053227\tvalidation_1-error:0.013986\tvalidation_1-logloss:0.053782\n",
            "[37]\tvalidation_0-error:0.007042\tvalidation_0-logloss:0.051358\tvalidation_1-error:0.013986\tvalidation_1-logloss:0.051695\n",
            "[38]\tvalidation_0-error:0.007042\tvalidation_0-logloss:0.049059\tvalidation_1-error:0.013986\tvalidation_1-logloss:0.049569\n",
            "[39]\tvalidation_0-error:0.007042\tvalidation_0-logloss:0.046991\tvalidation_1-error:0.013986\tvalidation_1-logloss:0.048095\n",
            "[40]\tvalidation_0-error:0.007042\tvalidation_0-logloss:0.045375\tvalidation_1-error:0.013986\tvalidation_1-logloss:0.047182\n",
            "[41]\tvalidation_0-error:0.007042\tvalidation_0-logloss:0.04397\tvalidation_1-error:0.013986\tvalidation_1-logloss:0.046021\n",
            "[42]\tvalidation_0-error:0.007042\tvalidation_0-logloss:0.042621\tvalidation_1-error:0.013986\tvalidation_1-logloss:0.045567\n",
            "[43]\tvalidation_0-error:0.007042\tvalidation_0-logloss:0.041284\tvalidation_1-error:0.013986\tvalidation_1-logloss:0.044296\n",
            "[44]\tvalidation_0-error:0.007042\tvalidation_0-logloss:0.039995\tvalidation_1-error:0.020979\tvalidation_1-logloss:0.043704\n",
            "[45]\tvalidation_0-error:0.007042\tvalidation_0-logloss:0.038722\tvalidation_1-error:0.013986\tvalidation_1-logloss:0.04268\n",
            "[46]\tvalidation_0-error:0.007042\tvalidation_0-logloss:0.037383\tvalidation_1-error:0.020979\tvalidation_1-logloss:0.041773\n",
            "[47]\tvalidation_0-error:0.004695\tvalidation_0-logloss:0.036207\tvalidation_1-error:0.020979\tvalidation_1-logloss:0.040688\n",
            "[48]\tvalidation_0-error:0.004695\tvalidation_0-logloss:0.034986\tvalidation_1-error:0.020979\tvalidation_1-logloss:0.039958\n",
            "[49]\tvalidation_0-error:0.004695\tvalidation_0-logloss:0.034029\tvalidation_1-error:0.020979\tvalidation_1-logloss:0.039043\n",
            "[50]\tvalidation_0-error:0.004695\tvalidation_0-logloss:0.03314\tvalidation_1-error:0.013986\tvalidation_1-logloss:0.038609\n",
            "[51]\tvalidation_0-error:0.004695\tvalidation_0-logloss:0.032045\tvalidation_1-error:0\tvalidation_1-logloss:0.037357\n",
            "[52]\tvalidation_0-error:0.004695\tvalidation_0-logloss:0.031132\tvalidation_1-error:0\tvalidation_1-logloss:0.036107\n",
            "[53]\tvalidation_0-error:0.004695\tvalidation_0-logloss:0.030264\tvalidation_1-error:0\tvalidation_1-logloss:0.035742\n",
            "[54]\tvalidation_0-error:0.004695\tvalidation_0-logloss:0.029247\tvalidation_1-error:0\tvalidation_1-logloss:0.035193\n",
            "[55]\tvalidation_0-error:0.004695\tvalidation_0-logloss:0.028326\tvalidation_1-error:0\tvalidation_1-logloss:0.034428\n",
            "[56]\tvalidation_0-error:0.002347\tvalidation_0-logloss:0.027717\tvalidation_1-error:0\tvalidation_1-logloss:0.033997\n",
            "[57]\tvalidation_0-error:0.002347\tvalidation_0-logloss:0.026875\tvalidation_1-error:0\tvalidation_1-logloss:0.033461\n",
            "[58]\tvalidation_0-error:0.002347\tvalidation_0-logloss:0.026166\tvalidation_1-error:0\tvalidation_1-logloss:0.032934\n",
            "[59]\tvalidation_0-error:0.002347\tvalidation_0-logloss:0.025569\tvalidation_1-error:0\tvalidation_1-logloss:0.032137\n",
            "[60]\tvalidation_0-error:0.002347\tvalidation_0-logloss:0.024849\tvalidation_1-error:0\tvalidation_1-logloss:0.031647\n",
            "[61]\tvalidation_0-error:0.002347\tvalidation_0-logloss:0.024274\tvalidation_1-error:0\tvalidation_1-logloss:0.030746\n",
            "[62]\tvalidation_0-error:0.002347\tvalidation_0-logloss:0.02368\tvalidation_1-error:0\tvalidation_1-logloss:0.030489\n",
            "[63]\tvalidation_0-error:0.002347\tvalidation_0-logloss:0.023088\tvalidation_1-error:0\tvalidation_1-logloss:0.030202\n",
            "[64]\tvalidation_0-error:0.002347\tvalidation_0-logloss:0.022509\tvalidation_1-error:0\tvalidation_1-logloss:0.029983\n",
            "[65]\tvalidation_0-error:0.002347\tvalidation_0-logloss:0.021976\tvalidation_1-error:0\tvalidation_1-logloss:0.029581\n",
            "[66]\tvalidation_0-error:0\tvalidation_0-logloss:0.021468\tvalidation_1-error:0\tvalidation_1-logloss:0.029126\n",
            "[67]\tvalidation_0-error:0\tvalidation_0-logloss:0.021058\tvalidation_1-error:0\tvalidation_1-logloss:0.02916\n",
            "[68]\tvalidation_0-error:0\tvalidation_0-logloss:0.020631\tvalidation_1-error:0\tvalidation_1-logloss:0.029167\n",
            "[69]\tvalidation_0-error:0\tvalidation_0-logloss:0.020247\tvalidation_1-error:0\tvalidation_1-logloss:0.028921\n",
            "[70]\tvalidation_0-error:0\tvalidation_0-logloss:0.01991\tvalidation_1-error:0\tvalidation_1-logloss:0.028602\n",
            "[71]\tvalidation_0-error:0\tvalidation_0-logloss:0.019483\tvalidation_1-error:0\tvalidation_1-logloss:0.028327\n",
            "[72]\tvalidation_0-error:0\tvalidation_0-logloss:0.019173\tvalidation_1-error:0\tvalidation_1-logloss:0.027977\n",
            "[73]\tvalidation_0-error:0\tvalidation_0-logloss:0.018815\tvalidation_1-error:0\tvalidation_1-logloss:0.027716\n",
            "[74]\tvalidation_0-error:0\tvalidation_0-logloss:0.018485\tvalidation_1-error:0\tvalidation_1-logloss:0.02752\n",
            "[75]\tvalidation_0-error:0\tvalidation_0-logloss:0.018145\tvalidation_1-error:0\tvalidation_1-logloss:0.027322\n",
            "[76]\tvalidation_0-error:0\tvalidation_0-logloss:0.017852\tvalidation_1-error:0\tvalidation_1-logloss:0.027041\n",
            "[77]\tvalidation_0-error:0\tvalidation_0-logloss:0.017493\tvalidation_1-error:0\tvalidation_1-logloss:0.026845\n",
            "[78]\tvalidation_0-error:0\tvalidation_0-logloss:0.017168\tvalidation_1-error:0\tvalidation_1-logloss:0.026516\n",
            "[79]\tvalidation_0-error:0\tvalidation_0-logloss:0.016858\tvalidation_1-error:0\tvalidation_1-logloss:0.026043\n",
            "[80]\tvalidation_0-error:0\tvalidation_0-logloss:0.016615\tvalidation_1-error:0\tvalidation_1-logloss:0.025896\n",
            "[81]\tvalidation_0-error:0\tvalidation_0-logloss:0.016346\tvalidation_1-error:0\tvalidation_1-logloss:0.02592\n",
            "[82]\tvalidation_0-error:0\tvalidation_0-logloss:0.016071\tvalidation_1-error:0\tvalidation_1-logloss:0.025661\n",
            "[83]\tvalidation_0-error:0\tvalidation_0-logloss:0.015875\tvalidation_1-error:0\tvalidation_1-logloss:0.025469\n",
            "[84]\tvalidation_0-error:0\tvalidation_0-logloss:0.015697\tvalidation_1-error:0\tvalidation_1-logloss:0.025285\n",
            "[85]\tvalidation_0-error:0\tvalidation_0-logloss:0.015438\tvalidation_1-error:0\tvalidation_1-logloss:0.025435\n",
            "[86]\tvalidation_0-error:0\tvalidation_0-logloss:0.015261\tvalidation_1-error:0\tvalidation_1-logloss:0.025386\n",
            "[87]\tvalidation_0-error:0\tvalidation_0-logloss:0.015066\tvalidation_1-error:0\tvalidation_1-logloss:0.025362\n",
            "[88]\tvalidation_0-error:0\tvalidation_0-logloss:0.014819\tvalidation_1-error:0\tvalidation_1-logloss:0.025094\n",
            "[89]\tvalidation_0-error:0\tvalidation_0-logloss:0.014634\tvalidation_1-error:0\tvalidation_1-logloss:0.024805\n",
            "[90]\tvalidation_0-error:0\tvalidation_0-logloss:0.014517\tvalidation_1-error:0\tvalidation_1-logloss:0.024662\n",
            "[91]\tvalidation_0-error:0\tvalidation_0-logloss:0.014308\tvalidation_1-error:0\tvalidation_1-logloss:0.024474\n",
            "[92]\tvalidation_0-error:0\tvalidation_0-logloss:0.014111\tvalidation_1-error:0\tvalidation_1-logloss:0.02417\n",
            "[93]\tvalidation_0-error:0\tvalidation_0-logloss:0.013865\tvalidation_1-error:0\tvalidation_1-logloss:0.02382\n",
            "[94]\tvalidation_0-error:0\tvalidation_0-logloss:0.013761\tvalidation_1-error:0\tvalidation_1-logloss:0.023891\n",
            "[95]\tvalidation_0-error:0\tvalidation_0-logloss:0.013601\tvalidation_1-error:0\tvalidation_1-logloss:0.023899\n",
            "[96]\tvalidation_0-error:0\tvalidation_0-logloss:0.013465\tvalidation_1-error:0\tvalidation_1-logloss:0.023608\n",
            "[97]\tvalidation_0-error:0\tvalidation_0-logloss:0.013334\tvalidation_1-error:0\tvalidation_1-logloss:0.023321\n",
            "[98]\tvalidation_0-error:0\tvalidation_0-logloss:0.013116\tvalidation_1-error:0\tvalidation_1-logloss:0.023009\n",
            "[99]\tvalidation_0-error:0\tvalidation_0-logloss:0.013017\tvalidation_1-error:0\tvalidation_1-logloss:0.022975\n"
          ]
        },
        {
          "output_type": "display_data",
          "data": {
            "image/png": "[encoded data removed]",
            "text/plain": [
              "<Figure size 720x288 with 2 Axes>"
            ]
          },
          "metadata": {
            "needs_background": "light"
          }
        }
      ]
    },
    {
      "cell_type": "markdown",
      "source": [
        "# Пример использованияв классическом стиле с early_stopping_rounds\n",
        "\n",
        "early_stopping_rounds = n совместно с заданым evals позволяет не обучать модель на всех 100 раундах, а остановить ее вычисление при условии, что за последние n раундов не было улучшенией в показателях метрики на проверочной выборке (если она задана)"
      ],
      "metadata": {
        "id": "g65gP-cFnfQL"
      }
    },
    {
      "cell_type": "code",
      "source": [
        "import xgboost as xgb\n",
        "from sklearn.datasets import load_breast_cancer\n",
        "from sklearn.model_selection import train_test_split\n",
        "from sklearn.metrics import accuracy_score\n",
        "from matplotlib import pyplot as plt\n",
        "\n",
        "# load data\n",
        "X, y = load_breast_cancer(return_X_y=True)\n",
        "X_train, X_test, y_train, y_test = train_test_split(X, y)\n",
        "\n",
        "# fit model in sklearn style\n",
        "param = {}\n",
        "dtrain = xgb.DMatrix(X_train, label=y_train)\n",
        "dtest = xgb.DMatrix(X_test, label=y_test)\n",
        "# early_stopping_rounds=5 - только в качестве примера, лучше ставить больше\n",
        "bst = xgb.train(param, dtrain, early_stopping_rounds=5, evals=[(dtrain, 'train'), (dtest, 'valid')])\n",
        "\n",
        "# ypred = bst.predict(dtest, iteration_range=(0, bst.best_iteration)) новый варант записи, collab библиотеку еще не обновил\n",
        "# делаем предсказания с лучшей моделью\n",
        "ypred = bst.predict(dtest, ntree_limit=bst.best_iteration)"
      ],
      "metadata": {
        "colab": {
          "base_uri": "https://localhost:8080/"
        },
        "id": "-hpEXJ_Qne7X",
        "outputId": "d3d6e271-9bb0-448b-f8f1-e376ecc0bf2f"
      },
      "execution_count": 23,
      "outputs": [
        {
          "output_type": "stream",
          "name": "stdout",
          "text": [
            "[0]\ttrain-rmse:0.355572\tvalid-rmse:0.374069\n",
            "Multiple eval metrics have been passed: 'valid-rmse' will be used for early stopping.\n",
            "\n",
            "Will train until valid-rmse hasn't improved in 5 rounds.\n",
            "[1]\ttrain-rmse:0.252427\tvalid-rmse:0.297782\n",
            "[2]\ttrain-rmse:0.179781\tvalid-rmse:0.25643\n",
            "[3]\ttrain-rmse:0.1286\tvalid-rmse:0.22045\n",
            "[4]\ttrain-rmse:0.092658\tvalid-rmse:0.201093\n",
            "[5]\ttrain-rmse:0.067341\tvalid-rmse:0.191152\n",
            "[6]\ttrain-rmse:0.050496\tvalid-rmse:0.186409\n",
            "[7]\ttrain-rmse:0.038848\tvalid-rmse:0.182841\n",
            "[8]\ttrain-rmse:0.030839\tvalid-rmse:0.181457\n",
            "[9]\ttrain-rmse:0.024669\tvalid-rmse:0.180786\n"
          ]
        }
      ]
    }
  ]
}