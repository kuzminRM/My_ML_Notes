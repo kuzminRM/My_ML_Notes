{
  "nbformat": 4,
  "nbformat_minor": 0,
  "metadata": {
    "colab": {
      "name": "ML_cheat_sheet.ipynb",
      "provenance": [],
      "collapsed_sections": [
        "dwlHKG7Y0m-H",
        "NYggJjo-sCwZ",
        "UXsk7lnvIrFX",
        "FTYg7h3e2VVu",
        "07u4NQGWGt_3",
        "bOtOguzVfyLz"
      ],
      "authorship_tag": "ABX9TyMIpsnP17WCzUqJNfs6Bzhk"
    },
    "kernelspec": {
      "name": "python3",
      "display_name": "Python 3"
    },
    "language_info": {
      "name": "python"
    }
  },
  "cells": [
    {
      "cell_type": "markdown",
      "source": [
        "Почитать про:\n",
        "\n",
        "Stochastic Gradient Descent\n",
        "\n",
        "SVM"
      ],
      "metadata": {
        "id": "CMPsjKmbeXot"
      }
    },
    {
      "cell_type": "code",
      "source": [
        "import pandas as pd\n",
        "import numpy as np\n",
        "from matplotlib import pyplot as plt\n",
        "from sklearn.datasets import load_iris\n",
        "X, y = load_iris(return_X_y=True)"
      ],
      "metadata": {
        "id": "yH_uk9ar_gA2"
      },
      "execution_count": 1,
      "outputs": []
    },
    {
      "cell_type": "markdown",
      "source": [
        "#Разбиение выборки"
      ],
      "metadata": {
        "id": "dwlHKG7Y0m-H"
      }
    },
    {
      "cell_type": "code",
      "execution_count": 2,
      "metadata": {
        "id": "9Zgv5V-teOor"
      },
      "outputs": [],
      "source": [
        "from sklearn.model_selection import train_test_split\n",
        "#                                                         defoult = 0.25\n",
        "X_train, X_test, y_train, y_test = train_test_split(X, y, test_size=0.33, random_state=0)\n"
      ]
    },
    {
      "cell_type": "markdown",
      "source": [
        "#Feature encoding"
      ],
      "metadata": {
        "id": "NYggJjo-sCwZ"
      }
    },
    {
      "cell_type": "code",
      "source": [
        "from sklearn.preprocessing import LabelEncoder\n",
        "\n",
        "enc = LabelEncoder()\n",
        "enc.fit([\"paris\", \"paris\", \"tokyo\", \"amsterdam\"])\n",
        "print(f'List of encoded labels: {enc.transform([\"tokyo\", \"tokyo\", \"paris\"])}')\n",
        "print(f'Decoded labels: {list(enc.inverse_transform([2, 2, 1]))}')"
      ],
      "metadata": {
        "colab": {
          "base_uri": "https://localhost:8080/"
        },
        "id": "Maxt_QposGS_",
        "outputId": "f659e63e-14f8-47cb-fede-bfc362b8929a"
      },
      "execution_count": 3,
      "outputs": [
        {
          "output_type": "stream",
          "name": "stdout",
          "text": [
            "List of encoded labels: [2 2 1]\n",
            "Decoded labels: ['tokyo', 'tokyo', 'paris']\n"
          ]
        }
      ]
    },
    {
      "cell_type": "code",
      "source": [
        "from sklearn.preprocessing import OneHotEncoder\n",
        "enc = OneHotEncoder() # также можно использовать drop='first' чтобы пропустить первый признак\n",
        "enc.fit([[\"paris\"], [\"paris\"], [\"tokyo\"], [\"amsterdam\"]])\n",
        "print(f'Categories: {enc.categories_}')\n",
        "print(f'Feature names for column names: {enc.get_feature_names_out([\"city\", ])}')\n",
        "print(f'List of encoded labels: \\n{enc.transform([[\"tokyo\"], [\"tokyo\"], [\"paris\"]]).toarray()}')\n",
        "print(f'Decoded labels: \\n{enc.inverse_transform([[0., 0., 1.], [0., 0., 1.], [0., 1., 0.]])}')"
      ],
      "metadata": {
        "colab": {
          "base_uri": "https://localhost:8080/"
        },
        "id": "-VtUwhuGJlkQ",
        "outputId": "eb5fd639-db2d-4526-b74c-80607f732123"
      },
      "execution_count": 4,
      "outputs": [
        {
          "output_type": "stream",
          "name": "stdout",
          "text": [
            "Categories: [array(['amsterdam', 'paris', 'tokyo'], dtype=object)]\n",
            "Feature names for column names: ['city_amsterdam' 'city_paris' 'city_tokyo']\n",
            "List of encoded labels: \n",
            "[[0. 0. 1.]\n",
            " [0. 0. 1.]\n",
            " [0. 1. 0.]]\n",
            "Decoded labels: \n",
            "[['tokyo']\n",
            " ['tokyo']\n",
            " ['paris']]\n"
          ]
        }
      ]
    },
    {
      "cell_type": "code",
      "source": [
        "# OneHot for MultiLabel task\n",
        "from sklearn.preprocessing import MultiLabelBinarizer\n",
        "\n",
        "enc = MultiLabelBinarizer()\n",
        "enc.fit_transform([['sci-fi', 'thriller'], ['comedy']])"
      ],
      "metadata": {
        "colab": {
          "base_uri": "https://localhost:8080/"
        },
        "id": "tH6t3muLJh2I",
        "outputId": "016390bd-4f80-4630-a5bb-67728c975658"
      },
      "execution_count": 5,
      "outputs": [
        {
          "output_type": "execute_result",
          "data": {
            "text/plain": [
              "array([[0, 1, 1],\n",
              "       [1, 0, 0]])"
            ]
          },
          "metadata": {},
          "execution_count": 5
        }
      ]
    },
    {
      "cell_type": "markdown",
      "source": [
        "```\n",
        "sklearn.preprocessing.KBinsDiscretizer\n",
        "```\n",
        "Превращает непрерывные данные в дискретные, с заданным количеством bins. Не знаю зачем можно использовать, но звучит интересно"
      ],
      "metadata": {
        "id": "ISa5mZub9xhQ"
      }
    },
    {
      "cell_type": "markdown",
      "source": [
        "##Scaling\n",
        "\n",
        "On the left side - full data, on the rigth sidw zoomed-id data\n",
        "\n",
        "For more information folow: https://scikit-learn.org/stable/auto_examples/preprocessing/plot_all_scaling.html#sphx-glr-auto-examples-preprocessing-plot-all-scaling-py \n",
        "\n",
        "p.s. там есть красивые картинки"
      ],
      "metadata": {
        "id": "UXsk7lnvIrFX"
      }
    },
    {
      "cell_type": "code",
      "source": [
        "from sklearn.preprocessing import MinMaxScaler\n",
        "from sklearn.preprocessing import MaxAbsScaler\n",
        "from sklearn.preprocessing import StandardScaler\n",
        "from sklearn.preprocessing import RobustScaler\n",
        "from sklearn.preprocessing import Normalizer\n",
        "from sklearn.preprocessing import QuantileTransformer\n",
        "from sklearn.preprocessing import PowerTransformer"
      ],
      "metadata": {
        "id": "GstTliJxIrmm"
      },
      "execution_count": 6,
      "outputs": []
    },
    {
      "cell_type": "markdown",
      "source": [
        "```\n",
        "StandardScaler()\n",
        "RobustScaler()\n",
        "```\n",
        "StandardScaler смещает центр данных в 0 и маштабирует данные приводя их к еденичной дисперсии. \n",
        "\n",
        "Формула: new_x = (x - mean) / std, где mean - среднее, std - среднеквадратичное отклонение\n",
        "\n",
        "На пркатике многие алгоритмы требуют чтобы данные имели нулевое среднее и общую дисперсию. Иначе если, например, дисперсия, одного из признаков больше остальных, то он может начать доминировать над остальными, в результате модель не сможет обучиться на других признаках как от нее ожидается.\n",
        "\n",
        "В этой реализации при помощи аргумаетов `with_mean=False, with_std=False` можно исключить из формалы приведение к нулевому среднему и еденичному СКО.\n",
        "\n",
        "RobustScaler делат примерно тоже самое, но прицип его работы основан на перцентилях. И его стоит применять на для данных с большим количеством выборсов, поскольку он **нечуствителен к выбросам** (StandardScaler тоже справляется с ними, но Robust пережевывает их лучше)."
      ],
      "metadata": {
        "id": "6rtG_EA9Q1i_"
      }
    },
    {
      "cell_type": "markdown",
      "source": [
        "```\n",
        "MinMaxScaler()\n",
        "MaxAbsScaler()\n",
        "```\n",
        "\n",
        "MinMaxScaler маштабирует данные в промежуток [0, 1] выполняя простое линейное преобразование.\n",
        "\n",
        "MaxAbsScaler похож на MinMax, но маштабирует данные в промежуотки (-1, 1], [-1, 1), [-1, 1].\n",
        "\n",
        "При этом если получаемая на вход выборка положительна, то результат работы обоих алгоритмов будт один и тотже.\n",
        "\n",
        "Как пишут преимущество этих алгоритмов включает в себя устойчивость к очень малым стандартным отклонениям функций и сохранение нулевых записей в разреженных данных (второе сомнительная штука как по-мне, можно получить используя `with_mean=False` в StandardScaler)\n",
        "\n",
        "Эти алгоритмы сильно чуствительны к выбросам. И обычно \"применяются для разреженных данных\"."
      ],
      "metadata": {
        "id": "EhL__Q0yZ4Xw"
      }
    },
    {
      "cell_type": "markdown",
      "source": [
        "```\n",
        "PowerTransformer(method=\"yeo-johnson\")\n",
        "PowerTransformer(method=\"box-cox\")\n",
        "```\n",
        "\n",
        "PowerTransformer make the data more Gaussian-like. От маштабиркет данные к нулевому среднему, с еденичной дисперсией и минимизирует **ассиметричность** данных. Естественно, при этом уже выполняются нелинейные преобразования.\n",
        "\n",
        "Важно, что Box-Cox может быть применен только над строго положительными данными, если это не так, то стоит использовать Yeo-Johnson.\n",
        "\n",
        "Достаточно хорошо \"сжимет\" данные в какие-то рамки."
      ],
      "metadata": {
        "id": "91cPJLD6h60O"
      }
    },
    {
      "cell_type": "markdown",
      "source": [
        "\n",
        "\n",
        "```\n",
        "QuantileTransformer(output_distribution='uniform') # default\n",
        "```\n",
        "Равномерно расперделяет данные в промежутке [0, 1] (данные по каждому фактору будут распределены по **Равномерному закону распределения**). Выглядит как равномерно закрашенный квадратик со стороной 1.\n",
        "\n",
        "Как можно понять он делат выбросы неотличимыми от остальных данных (**\"обрезает\" вбыросы**). Что делает его **нечуствительным к выбросам**.\n",
        "\n",
        "```\n",
        "QuantileTransformer(output_distribution='normal')\n",
        "```\n",
        "Приводит данные к \"идеальному\" Нормальному распределению. Тоже устойчив к выбросам."
      ],
      "metadata": {
        "id": "p9zY0lI3j7Az"
      }
    },
    {
      "cell_type": "markdown",
      "source": [
        "\n",
        "\n",
        "```\n",
        "Normalizer()\n",
        "```\n",
        "Какая-то эльфийская магия. Но пусть будет. \n",
        "\n",
        "Преобразовывает данные в точки на еденичной окружности, при этом строятся только те четверти круга, в которых присутствуют какеи-либо данные.\n"
      ],
      "metadata": {
        "id": "VdyW7xTpn4Q0"
      }
    },
    {
      "cell_type": "markdown",
      "source": [
        "#Классификация"
      ],
      "metadata": {
        "id": "FTYg7h3e2VVu"
      }
    },
    {
      "cell_type": "markdown",
      "source": [
        "##k-nearest neighbors\n",
        "\n",
        "```\n",
        "sklearn.neighbors.KNeighborsClassifier\n",
        "sklearn.neighbors.RadiusNeighborsClassifier\n",
        "```\n",
        "\n",
        "Also see NCA in Dimensionality reduction\n",
        "\n",
        "Требователен к нормализации данных, особенно в простанствах с большим кол-вом измерений.\n",
        "\n",
        "Еще есть метод, работающий по аналогичному принципу, но использует вместо k-ближайших, соседей в заданном радиусе.\n",
        "\n",
        "Parameters\n",
        "*   n_neighbors:int\n",
        "*   metric:str or callable, default=’minkowski’\n",
        "*   p:int, default=2 - Power parameter for the Minkowski metric (2 - equivalent  to standard Euclidean metric)\n",
        "\n"
      ],
      "metadata": {
        "id": "8GKTMcYH2mKs"
      }
    },
    {
      "cell_type": "markdown",
      "source": [
        "\n",
        "## LogisticRegression\n",
        "\n",
        "```\n",
        "sklearn.linear_model.LogisticRegression\n",
        "```\n",
        "\n",
        "В sklearn есть выбор алгоритмов, каждый из которых является оптимальным в различных члучаях: `solver{‘newton-cg’, ‘lbfgs’, ‘liblinear’, ‘sag’, ‘saga’}, default=’lbfgs’`\n",
        "\n",
        "The solver “liblinear” uses a coordinate descent (CD) algorithm, and relies on the excellent C++\n",
        "\n",
        "The “lbfgs”, “sag” and “newton-cg” are found to converge faster for some high-dimensional data. Работают лучше с  multi_class = “multinomial”.\n",
        "\n",
        "The “sag” solver uses Stochastic Average Gradient descent. It is faster than other solvers for large datasets, when both the number of samples and the number of features are large.\n",
        "\n",
        "The “lbfgs” is an optimization algorithm is recommended for use for small data-sets"
      ],
      "metadata": {
        "id": "0kNpRJGytWpg"
      }
    },
    {
      "cell_type": "markdown",
      "source": [
        "## SVM\n",
        "\n",
        "```\n",
        "sklearn.svm.SVC, LinearSVC, NuSVC\n",
        "```\n",
        "\n",
        "**It is highly recommended to scale your data**\n",
        "\n",
        "Основной параметр - kernel{‘linear’, ‘poly’, ‘rbf’, ‘sigmoid’, ‘precomputed’}. L2 - параметр \"С\" is 1 by default and it’s a reasonable default choice. If you have a lot of noisy observations you should decrease it: decreasing C corresponds to more regularization. В зависимотси от выбранного ядра дополнительно: gamma, coef0 and degree.\n",
        "\n",
        "For large datasets consider using LinearSVC or SGDClassifier instead, possibly after a Nystroem transformer.\n",
        "\n",
        "SVC and NuSVC are similar methods, but accept slightly different sets of parameters and have different mathematical formulation. Параметр Ню используется вместо \"C\" и контролирует кол-во ошибочно классифицированных точек при выборе отступов (margin errors) с одной стороны и количство используемых опорных векторов (number of support vectors) с другой. Находится в пределах (0, 1]. 1 соответствует fraction (fraction - доля, дробная часть) margin errors, 0 - fraction of support vectors\n",
        "\n",
        "Kernel cache size -  If you have enough RAM available, it is recommended to set cache_size to a higher value than the default of 200(MB), such as 500(MB) or 1000(MB)."
      ],
      "metadata": {
        "id": "7utEFWX_yVxY"
      }
    },
    {
      "cell_type": "markdown",
      "source": [
        "## RandomForestClassifier\n",
        "\n",
        "```\n",
        "from sklearn.ensemble import RandomForestClassifier\n",
        "RandomForestClassifier(n_estimators=100, max_depth=3, n_jobs=-1)\n",
        "```\n",
        "Переобучается на random numerical feature (если просто добавить фактор с рандомными числами, то этот фактор будет иметь достаточно сильное влияние на результат). Есть еще предположение, что на любом факторе, который имеет большое число уникальных значений (числовой или порядковый всеравно, хотя для порядкового звучит логичнее), но явно об этом не написано.\n"
      ],
      "metadata": {
        "id": "cQaQE8BLWsVZ"
      }
    },
    {
      "cell_type": "markdown",
      "source": [
        "# Регрессия"
      ],
      "metadata": {
        "id": "07u4NQGWGt_3"
      }
    },
    {
      "cell_type": "markdown",
      "source": [
        "##k-nearest neighbors\n",
        "\n",
        "```\n",
        "sklearn.neighbors.KNeighborsClassifier\n",
        "sklearn.neighbors.RadiusNeighborsClassifier\n",
        "```\n",
        "\n",
        "Требователен к нормализации данных, особенно в простанствах с большим кол-вом измерений. Применим в большей степени к непрерываным данным, чем к данным в которых большое число дискретных переменных. "
      ],
      "metadata": {
        "id": "UH8OakhAG6-w"
      }
    },
    {
      "cell_type": "markdown",
      "source": [
        "## Linear regressions"
      ],
      "metadata": {
        "id": "dEtA-TAiKa0J"
      }
    },
    {
      "cell_type": "markdown",
      "source": [
        "```\n",
        "from sklearn.linear_model import LinearRegression\n",
        "```\n",
        "Простая модель линейной регресси, неизвестные которой находятся по МНК\n",
        "\n",
        "\n",
        "---\n",
        "\n",
        "\n",
        "```\n",
        "from sklearn.linear_model import Lasso\n",
        "Lasso(alpha=0.1)\n",
        "```\n",
        "Линейная модель с L1 регуляризацией. Т.е. модель штрафует большие значения коэффициентов перед неизвестными, добавляя сумму весов *по модулю*. Чем больше параметр alpha, тем сильнее урезаются веса.\n",
        "\n",
        "Этот тип регуляризации приводит к тому, что некоторые незначимые коэффициенты обнуляются.\n",
        "\n",
        "```\n",
        "from sklearn.linear_model import Ridge\n",
        "Ridge(alpha=0.1)\n",
        "```\n",
        "Линейная модель с L2 регуляризацией. Т.е. модель штрафует большие значения коэффициентов перед неизвестными, добавляя сумму весов *в квадрате*. Чем больше параметр alpha, тем сильнее урезаются веса.\n",
        "\n",
        "В отличе от Lasso тут коэффициенты в уравении не обнуляются, а только стремятся к 0.\n",
        "\n",
        "**Обе модели могут использоваться для отбора факторов.**\n",
        "\n",
        "```\n",
        "from sklearn.linear_model import ElasticNet\n",
        "ElasticNet(alpha=1.0, l1_ratio=0.5)\n",
        "```\n",
        "Совмещает в себе L1 и L2 регуляризацию. Elastic-net is useful when there are multiple features that are correlated with one another.\n",
        "\n",
        "\n",
        "\n",
        "---\n",
        "\n",
        "Least Angle Regression - Least-angle regression (LARS) is a regression algorithm for high-dimensional data. Сильно чуствителен к выбросам\n",
        "\n",
        "Stochastic Gradient Descent - **high-dimensional data**\n",
        "\n",
        "Orthogonal Matching Pursuit (OMP) - orthogonal matching pursuit can approximate the optimum solution vector with a **fixed number of non-zero elements**. OMP is based on a greedy algorithm that includes at each step the atom most highly correlated with the current residual. Аt each iteration, the residual is recomputed using an orthogonal projection on the space of the previously chosen dictionary elements.\n",
        "```\n",
        "from sklearn.linear_model import OrthogonalMatchingPursuit\n",
        "model = OrthogonalMatchingPursuit(n_nonzero_coefs=5)\n",
        "```"
      ],
      "metadata": {
        "id": "gnFj6i3uKe6-"
      }
    },
    {
      "cell_type": "markdown",
      "source": [
        "## SVM\n",
        "\n",
        "```\n",
        "sklearn.svm.SVR, LinearSVR, NuSVR\n",
        "```\n",
        "\n",
        "См. Классификацию"
      ],
      "metadata": {
        "id": "FmvRwdZ93mb7"
      }
    },
    {
      "cell_type": "markdown",
      "source": [
        "## RandomForest\n",
        "\n",
        "\n",
        "```\n",
        "sklearn.ensemble.RandomForestClassifier\n",
        "```\n",
        "См. Классификацию\n"
      ],
      "metadata": {
        "id": "DnECURnxWPaw"
      }
    },
    {
      "cell_type": "markdown",
      "source": [
        "## PolynomialFeatures"
      ],
      "metadata": {
        "id": "bOtOguzVfyLz"
      }
    },
    {
      "cell_type": "code",
      "source": [
        "from sklearn.preprocessing import PolynomialFeatures\n",
        "\n",
        "X_inp = np.arange(6).reshape(3, 2)\n",
        "poly = PolynomialFeatures(degree=2)\n",
        "poly.fit_transform(X_inp)"
      ],
      "metadata": {
        "colab": {
          "base_uri": "https://localhost:8080/"
        },
        "id": "XdUkXarTf6Wk",
        "outputId": "6b55f062-b724-490b-9046-e71983c1629b"
      },
      "execution_count": 7,
      "outputs": [
        {
          "output_type": "execute_result",
          "data": {
            "text/plain": [
              "array([[ 1.,  0.,  1.,  0.,  0.,  1.],\n",
              "       [ 1.,  2.,  3.,  4.,  6.,  9.],\n",
              "       [ 1.,  4.,  5., 16., 20., 25.]])"
            ]
          },
          "metadata": {},
          "execution_count": 7
        }
      ]
    },
    {
      "cell_type": "code",
      "source": [
        "from sklearn.preprocessing import SplineTransformer\n",
        "X_inp = np.arange(6).reshape(3, 2)\n",
        "spline = SplineTransformer(degree=3, n_knots=5)\n",
        "# n_knots - число узловых точек\n",
        "# degree - сепень \"базовой\" функции/линии для сплайна, пролегающих между узловыми точками\n",
        "spline.fit_transform(X_inp)"
      ],
      "metadata": {
        "colab": {
          "base_uri": "https://localhost:8080/"
        },
        "id": "0xlDO0Y1gIHD",
        "outputId": "8e2844e0-6fd2-456d-fcb5-632ebbe138af"
      },
      "execution_count": 8,
      "outputs": [
        {
          "output_type": "execute_result",
          "data": {
            "text/plain": [
              "array([[0.16666667, 0.66666667, 0.16666667, 0.        , 0.        ,\n",
              "        0.        , 0.        , 0.16666667, 0.66666667, 0.16666667,\n",
              "        0.        , 0.        , 0.        , 0.        ],\n",
              "       [0.        , 0.        , 0.16666667, 0.66666667, 0.16666667,\n",
              "        0.        , 0.        , 0.        , 0.        , 0.16666667,\n",
              "        0.66666667, 0.16666667, 0.        , 0.        ],\n",
              "       [0.        , 0.        , 0.        , 0.        , 0.16666667,\n",
              "        0.66666667, 0.16666667, 0.        , 0.        , 0.        ,\n",
              "        0.        , 0.16666667, 0.66666667, 0.16666667]])"
            ]
          },
          "metadata": {},
          "execution_count": 8
        }
      ]
    },
    {
      "cell_type": "markdown",
      "source": [
        "#Dimensionality reduction"
      ],
      "metadata": {
        "id": "tQf2VhnZ-SRt"
      }
    },
    {
      "cell_type": "markdown",
      "source": [
        "##Neighborhood Components Analysis or NCA\n",
        "\n",
        "Also it could boost KNN score by modifinig the point space compared to the original point space"
      ],
      "metadata": {
        "id": "YxCHQxtu-VA8"
      }
    },
    {
      "cell_type": "code",
      "source": [
        "from sklearn.neighbors import NeighborhoodComponentsAnalysis\n",
        "\n",
        "nca = NeighborhoodComponentsAnalysis(n_components=2, random_state=0)\n",
        "nca.fit(X_train, y_train)\n",
        "df = pd.DataFrame(nca.transform(X_train))\n",
        "\n",
        "plt.figure()\n",
        "plt.scatter(df.iloc()[:, 0], df.iloc()[:, 1], c=y_train)\n",
        "plt.show()"
      ],
      "metadata": {
        "colab": {
          "base_uri": "https://localhost:8080/",
          "height": 265
        },
        "id": "ngtuzU3a-q30",
        "outputId": "2b008351-f541-47c1-afd9-1792f30bb684"
      },
      "execution_count": 9,
      "outputs": [
        {
          "output_type": "display_data",
          "data": {
            "image/png": "[encoded data removed]",
            "text/plain": [
              "<Figure size 432x288 with 1 Axes>"
            ]
          },
          "metadata": {
            "needs_background": "light"
          }
        }
      ]
    },
    {
      "cell_type": "code",
      "source": [
        "from sklearn.neighbors import KNeighborsClassifier\n",
        "\n",
        "# boosting knn score (эти данные слишком простые для такой задачи, поэтому оценка даже упала)\n",
        "model = KNeighborsClassifier(n_neighbors=3)\n",
        "model.fit(X_train, y_train)\n",
        "print(f'Classic KNN score: {model.score(X_test, y_test)}')\n",
        "\n",
        "nca = NeighborhoodComponentsAnalysis(random_state=0)\n",
        "nca.fit(X_train, y_train)\n",
        "model.fit(nca.transform(X_train), y_train)\n",
        "print(f'KNN with NCA transformation score: {model.score(nca.transform(X_test), y_test)}')"
      ],
      "metadata": {
        "colab": {
          "base_uri": "https://localhost:8080/"
        },
        "id": "hlMEObbtEIa1",
        "outputId": "e567349c-d95a-431b-dee9-f6562a605243"
      },
      "execution_count": 10,
      "outputs": [
        {
          "output_type": "stream",
          "name": "stdout",
          "text": [
            "Classic KNN score: 0.96\n",
            "KNN with NCA transformation score: 0.94\n"
          ]
        }
      ]
    },
    {
      "cell_type": "markdown",
      "source": [
        "# Model selection"
      ],
      "metadata": {
        "id": "_hKKSzW05m5B"
      }
    },
    {
      "cell_type": "markdown",
      "source": [
        "## Cross-validation\n",
        "\n",
        "Разбивает выборку на n подвыборок и обучает модель на n-1 подвыборках используя в для валидации одну оставшуюся часть. На основании полученных данных можно посмотреть стредний score и его стандартное отклонение.\n",
        "\n",
        "\n",
        "```\n",
        "from sklearn.model_selection import cross_validate\n",
        "from sklearn.metrics import recall_score\n",
        "scoring = ['precision_macro', 'recall_macro']\n",
        "clf = svm.SVC(kernel='linear', C=1, random_state=0)\n",
        "scores = cross_validate(clf, X, y, cv=5, scoring=scoring)\n",
        "scores.keys() >>> ['fit_time', 'score_time', 'test_precision_macro', 'test_recall_macro']\n",
        "scores['test_recall_macro']\n",
        "\n",
        "print(\"%0.2f accuracy with a standard deviation of %0.2f\" % (scoresеще['test_recall_macro'].mean(), scores['test_recall_macro'].std()))\n",
        "```\n",
        "\n",
        "Еще интересная штука. Она выбирает подвыборки случайно, а не последовательно.\n",
        "\n",
        "```\n",
        "from sklearn.model_selection import ShuffleSplit\n",
        "cv = ShuffleSplit(n_splits=5, test_size=0.3, random_state=0)\n",
        "cross_val_score(clf, X, y, cv=cv)\n",
        "```\n",
        "\n"
      ],
      "metadata": {
        "id": "zFmEwggX5wT_"
      }
    },
    {
      "cell_type": "markdown",
      "source": [
        "## ValidationCurve"
      ],
      "metadata": {
        "id": "Sx5cN8Yrqh9M"
      }
    },
    {
      "cell_type": "code",
      "source": [
        "from sklearn.model_selection import validation_curve\n",
        "from sklearn.svm import SVC\n",
        "\n",
        "param_range = np.logspace(-3, 3, 4)\n",
        "\n",
        "train_scores, test_scores = validation_curve(SVC(), X, y,\n",
        "                                             param_name='gamma',\n",
        "                                             param_range=param_range, cv=3)\n",
        "\n",
        "plt.figure()\n",
        "\n",
        "train_scores_mean = np.mean(train_scores, axis=1)\n",
        "train_scores_std = np.std(train_scores, axis=1)\n",
        "test_scores_mean = np.mean(test_scores, axis=1)\n",
        "test_scores_std = np.std(test_scores, axis=1)\n",
        "\n",
        "plt.title('Validation Curve with SVM')\n",
        "plt.xlabel('$\\gamma$ (gamma)')\n",
        "plt.ylabel('Score')\n",
        "plt.ylim(0.0, 1.1)\n",
        "lw = 2\n",
        "\n",
        "plt.semilogx(param_range, train_scores_mean, label='Training score',\n",
        "            color='darkorange', lw=lw)\n",
        "\n",
        "plt.fill_between(param_range, train_scores_mean - train_scores_std,\n",
        "                train_scores_mean + train_scores_std, alpha=0.2,\n",
        "                color='darkorange', lw=lw)\n",
        "\n",
        "plt.semilogx(param_range, test_scores_mean, label='Cross-validation score',\n",
        "            color='navy', lw=lw)\n",
        "\n",
        "plt.fill_between(param_range, test_scores_mean - test_scores_std,\n",
        "                test_scores_mean + test_scores_std, alpha=0.2,\n",
        "                color='navy', lw=lw)\n",
        "\n",
        "plt.legend(loc='best')\n",
        "plt.show()"
      ],
      "metadata": {
        "colab": {
          "base_uri": "https://localhost:8080/",
          "height": 303
        },
        "id": "zSCGwO0Uq1Yu",
        "outputId": "7b9a661f-f729-4401-9bbe-9e778a79584d"
      },
      "execution_count": 11,
      "outputs": [
        {
          "output_type": "display_data",
          "data": {
            "image/png": "[encoded data removed]",
            "text/plain": [
              "<Figure size 432x288 with 1 Axes>"
            ]
          },
          "metadata": {
            "needs_background": "light"
          }
        }
      ]
    },
    {
      "cell_type": "markdown",
      "source": [
        "## GridSearchCV\n",
        "\n",
        "Некоторые модлеи \"нативно\" поддерживают поиск оптимальных параметров, поэтому лучше использовать их. Названия их классов оканчиваются на CV, например, linear_model.ElasticNetCV, linear_model.LassoCV\n",
        "\n",
        "Для моделей, которые используют бэггинг (леса) не целесообразно использовать cross-validation (разбиене на подвыборки).\n",
        "\n",
        "При помощи HalvingGridSearchCV можно ускорить процесс, за счет того, что изначально плохие модели будут отбрасфываться на первых итерациях."
      ],
      "metadata": {
        "id": "sIOpwvEVDhTk"
      }
    },
    {
      "cell_type": "code",
      "source": [
        "from sklearn.model_selection import GridSearchCV\n",
        "\n",
        "parameters = {'kernel': ('linear', 'rbf'), 'C': [0.01, 1, 100]}\n",
        "# Еще один возможный вариант:\n",
        "# parameters = [{'kernel': ['linear']},\n",
        "#               {'kernel': ['poly'], 'degree': [2, 3], 'C': [100]},\n",
        "#               {'kernel': ['rbf'], 'C': [0.01, 1, 10]},]\n",
        "\n",
        "svc = SVC()\n",
        "clf = GridSearchCV(svc, parameters)\n",
        "clf.fit(X, y)\n",
        "pd.DataFrame(clf.cv_results_)"
      ],
      "metadata": {
        "colab": {
          "base_uri": "https://localhost:8080/",
          "height": 579
        },
        "id": "o5amouGyGO24",
        "outputId": "51a4658f-3766-4ca9-f12b-0aa6f7859f44"
      },
      "execution_count": 12,
      "outputs": [
        {
          "output_type": "execute_result",
          "data": {
            "text/html": [
              "\n",
              "  <div id=\"df-b3df0c92-b3dd-41fc-afed-c74ed2c00441\">\n",
              "    <div class=\"colab-df-container\">\n",
              "      <div>\n",
              "<style scoped>\n",
              "    .dataframe tbody tr th:only-of-type {\n",
              "        vertical-align: middle;\n",
              "    }\n",
              "\n",
              "    .dataframe tbody tr th {\n",
              "        vertical-align: top;\n",
              "    }\n",
              "\n",
              "    .dataframe thead th {\n",
              "        text-align: right;\n",
              "    }\n",
              "</style>\n",
              "<table border=\"1\" class=\"dataframe\">\n",
              "  <thead>\n",
              "    <tr style=\"text-align: right;\">\n",
              "      <th></th>\n",
              "      <th>mean_fit_time</th>\n",
              "      <th>std_fit_time</th>\n",
              "      <th>mean_score_time</th>\n",
              "      <th>std_score_time</th>\n",
              "      <th>param_C</th>\n",
              "      <th>param_kernel</th>\n",
              "      <th>params</th>\n",
              "      <th>split0_test_score</th>\n",
              "      <th>split1_test_score</th>\n",
              "      <th>split2_test_score</th>\n",
              "      <th>split3_test_score</th>\n",
              "      <th>split4_test_score</th>\n",
              "      <th>mean_test_score</th>\n",
              "      <th>std_test_score</th>\n",
              "      <th>rank_test_score</th>\n",
              "    </tr>\n",
              "  </thead>\n",
              "  <tbody>\n",
              "    <tr>\n",
              "      <th>0</th>\n",
              "      <td>0.001635</td>\n",
              "      <td>0.000367</td>\n",
              "      <td>0.000660</td>\n",
              "      <td>0.000170</td>\n",
              "      <td>0.01</td>\n",
              "      <td>linear</td>\n",
              "      <td>{'C': 0.01, 'kernel': 'linear'}</td>\n",
              "      <td>0.900000</td>\n",
              "      <td>0.966667</td>\n",
              "      <td>0.866667</td>\n",
              "      <td>0.966667</td>\n",
              "      <td>0.900000</td>\n",
              "      <td>0.920000</td>\n",
              "      <td>0.040000</td>\n",
              "      <td>6</td>\n",
              "    </tr>\n",
              "    <tr>\n",
              "      <th>1</th>\n",
              "      <td>0.001663</td>\n",
              "      <td>0.000028</td>\n",
              "      <td>0.000626</td>\n",
              "      <td>0.000019</td>\n",
              "      <td>0.01</td>\n",
              "      <td>rbf</td>\n",
              "      <td>{'C': 0.01, 'kernel': 'rbf'}</td>\n",
              "      <td>0.900000</td>\n",
              "      <td>0.933333</td>\n",
              "      <td>0.900000</td>\n",
              "      <td>0.966667</td>\n",
              "      <td>0.933333</td>\n",
              "      <td>0.926667</td>\n",
              "      <td>0.024944</td>\n",
              "      <td>5</td>\n",
              "    </tr>\n",
              "    <tr>\n",
              "      <th>2</th>\n",
              "      <td>0.000764</td>\n",
              "      <td>0.000045</td>\n",
              "      <td>0.000368</td>\n",
              "      <td>0.000008</td>\n",
              "      <td>1</td>\n",
              "      <td>linear</td>\n",
              "      <td>{'C': 1, 'kernel': 'linear'}</td>\n",
              "      <td>0.966667</td>\n",
              "      <td>1.000000</td>\n",
              "      <td>0.966667</td>\n",
              "      <td>0.966667</td>\n",
              "      <td>1.000000</td>\n",
              "      <td>0.980000</td>\n",
              "      <td>0.016330</td>\n",
              "      <td>1</td>\n",
              "    </tr>\n",
              "    <tr>\n",
              "      <th>3</th>\n",
              "      <td>0.001098</td>\n",
              "      <td>0.000208</td>\n",
              "      <td>0.000531</td>\n",
              "      <td>0.000130</td>\n",
              "      <td>1</td>\n",
              "      <td>rbf</td>\n",
              "      <td>{'C': 1, 'kernel': 'rbf'}</td>\n",
              "      <td>0.966667</td>\n",
              "      <td>0.966667</td>\n",
              "      <td>0.966667</td>\n",
              "      <td>0.933333</td>\n",
              "      <td>1.000000</td>\n",
              "      <td>0.966667</td>\n",
              "      <td>0.021082</td>\n",
              "      <td>3</td>\n",
              "    </tr>\n",
              "    <tr>\n",
              "      <th>4</th>\n",
              "      <td>0.000810</td>\n",
              "      <td>0.000040</td>\n",
              "      <td>0.000386</td>\n",
              "      <td>0.000022</td>\n",
              "      <td>100</td>\n",
              "      <td>linear</td>\n",
              "      <td>{'C': 100, 'kernel': 'linear'}</td>\n",
              "      <td>1.000000</td>\n",
              "      <td>1.000000</td>\n",
              "      <td>0.900000</td>\n",
              "      <td>0.933333</td>\n",
              "      <td>1.000000</td>\n",
              "      <td>0.966667</td>\n",
              "      <td>0.042164</td>\n",
              "      <td>3</td>\n",
              "    </tr>\n",
              "    <tr>\n",
              "      <th>5</th>\n",
              "      <td>0.000803</td>\n",
              "      <td>0.000021</td>\n",
              "      <td>0.000381</td>\n",
              "      <td>0.000007</td>\n",
              "      <td>100</td>\n",
              "      <td>rbf</td>\n",
              "      <td>{'C': 100, 'kernel': 'rbf'}</td>\n",
              "      <td>1.000000</td>\n",
              "      <td>1.000000</td>\n",
              "      <td>0.900000</td>\n",
              "      <td>0.966667</td>\n",
              "      <td>1.000000</td>\n",
              "      <td>0.973333</td>\n",
              "      <td>0.038873</td>\n",
              "      <td>2</td>\n",
              "    </tr>\n",
              "  </tbody>\n",
              "</table>\n",
              "</div>\n",
              "      <button class=\"colab-df-convert\" onclick=\"convertToInteractive('df-b3df0c92-b3dd-41fc-afed-c74ed2c00441')\"\n",
              "              title=\"Convert this dataframe to an interactive table.\"\n",
              "              style=\"display:none;\">\n",
              "        \n",
              "  <svg xmlns=\"http://www.w3.org/2000/svg\" height=\"24px\"viewBox=\"0 0 24 24\"\n",
              "       width=\"24px\">\n",
              "    <path d=\"M0 0h24v24H0V0z\" fill=\"none\"/>\n",
              "    <path d=\"M18.56 5.44l.94 2.06.94-2.06 2.06-.94-2.06-.94-.94-2.06-.94 2.06-2.06.94zm-11 1L8.5 8.5l.94-2.06 2.06-.94-2.06-.94L8.5 2.5l-.94 2.06-2.06.94zm10 10l.94 2.06.94-2.06 2.06-.94-2.06-.94-.94-2.06-.94 2.06-2.06.94z\"/><path d=\"M17.41 7.96l-1.37-1.37c-.4-.4-.92-.59-1.43-.59-.52 0-1.04.2-1.43.59L10.3 9.45l-7.72 7.72c-.78.78-.78 2.05 0 2.83L4 21.41c.39.39.9.59 1.41.59.51 0 1.02-.2 1.41-.59l7.78-7.78 2.81-2.81c.8-.78.8-2.07 0-2.86zM5.41 20L4 18.59l7.72-7.72 1.47 1.35L5.41 20z\"/>\n",
              "  </svg>\n",
              "      </button>\n",
              "      \n",
              "  <style>\n",
              "    .colab-df-container {\n",
              "      display:flex;\n",
              "      flex-wrap:wrap;\n",
              "      gap: 12px;\n",
              "    }\n",
              "\n",
              "    .colab-df-convert {\n",
              "      background-color: #E8F0FE;\n",
              "      border: none;\n",
              "      border-radius: 50%;\n",
              "      cursor: pointer;\n",
              "      display: none;\n",
              "      fill: #1967D2;\n",
              "      height: 32px;\n",
              "      padding: 0 0 0 0;\n",
              "      width: 32px;\n",
              "    }\n",
              "\n",
              "    .colab-df-convert:hover {\n",
              "      background-color: #E2EBFA;\n",
              "      box-shadow: 0px 1px 2px rgba(60, 64, 67, 0.3), 0px 1px 3px 1px rgba(60, 64, 67, 0.15);\n",
              "      fill: #174EA6;\n",
              "    }\n",
              "\n",
              "    [theme=dark] .colab-df-convert {\n",
              "      background-color: #3B4455;\n",
              "      fill: #D2E3FC;\n",
              "    }\n",
              "\n",
              "    [theme=dark] .colab-df-convert:hover {\n",
              "      background-color: #434B5C;\n",
              "      box-shadow: 0px 1px 3px 1px rgba(0, 0, 0, 0.15);\n",
              "      filter: drop-shadow(0px 1px 2px rgba(0, 0, 0, 0.3));\n",
              "      fill: #FFFFFF;\n",
              "    }\n",
              "  </style>\n",
              "\n",
              "      <script>\n",
              "        const buttonEl =\n",
              "          document.querySelector('#df-b3df0c92-b3dd-41fc-afed-c74ed2c00441 button.colab-df-convert');\n",
              "        buttonEl.style.display =\n",
              "          google.colab.kernel.accessAllowed ? 'block' : 'none';\n",
              "\n",
              "        async function convertToInteractive(key) {\n",
              "          const element = document.querySelector('#df-b3df0c92-b3dd-41fc-afed-c74ed2c00441');\n",
              "          const dataTable =\n",
              "            await google.colab.kernel.invokeFunction('convertToInteractive',\n",
              "                                                     [key], {});\n",
              "          if (!dataTable) return;\n",
              "\n",
              "          const docLinkHtml = 'Like what you see? Visit the ' +\n",
              "            '<a target=\"_blank\" href=https://colab.research.google.com/notebooks/data_table.ipynb>data table notebook</a>'\n",
              "            + ' to learn more about interactive tables.';\n",
              "          element.innerHTML = '';\n",
              "          dataTable['output_type'] = 'display_data';\n",
              "          await google.colab.output.renderOutput(dataTable, element);\n",
              "          const docLink = document.createElement('div');\n",
              "          docLink.innerHTML = docLinkHtml;\n",
              "          element.appendChild(docLink);\n",
              "        }\n",
              "      </script>\n",
              "    </div>\n",
              "  </div>\n",
              "  "
            ],
            "text/plain": [
              "   mean_fit_time  std_fit_time  ...  std_test_score  rank_test_score\n",
              "0       0.001635      0.000367  ...        0.040000                6\n",
              "1       0.001663      0.000028  ...        0.024944                5\n",
              "2       0.000764      0.000045  ...        0.016330                1\n",
              "3       0.001098      0.000208  ...        0.021082                3\n",
              "4       0.000810      0.000040  ...        0.042164                3\n",
              "5       0.000803      0.000021  ...        0.038873                2\n",
              "\n",
              "[6 rows x 15 columns]"
            ]
          },
          "metadata": {},
          "execution_count": 12
        }
      ]
    },
    {
      "cell_type": "markdown",
      "source": [
        "# FeatureSelection"
      ],
      "metadata": {
        "id": "07Em46MNNfDq"
      }
    },
    {
      "cell_type": "markdown",
      "source": [
        "## Tree\n",
        "\n",
        "Feature importance based on mean decrease in impurity (MDI) могут приводить к неверным результатам если какой-либо из признаков имеет большое количество уникальных значений. Сказали, что даже отражается просто на числовых данных. (тогда он вообще получается не очень) "
      ],
      "metadata": {
        "id": "_IzPHk_GNsP_"
      }
    },
    {
      "cell_type": "code",
      "source": [
        "from sklearn.ensemble import RandomForestClassifier\n",
        "clf = RandomForestClassifier(random_state=1).fit(X_train, y_train)\n",
        "clf.feature_importances_"
      ],
      "metadata": {
        "colab": {
          "base_uri": "https://localhost:8080/"
        },
        "id": "VcazNxHGOEo8",
        "outputId": "8f0e25fe-feb1-4192-93d1-60e29da9ab7c"
      },
      "execution_count": 13,
      "outputs": [
        {
          "output_type": "execute_result",
          "data": {
            "text/plain": [
              "array([0.13159089, 0.02466521, 0.45266953, 0.39107437])"
            ]
          },
          "metadata": {},
          "execution_count": 13
        }
      ]
    },
    {
      "cell_type": "markdown",
      "source": [
        "## Permutation\n",
        "\n",
        "Перемешивает выборку и в зависимости от того на сколько сильно поменялось значение метрики по сравнению с baseline (без перестановок) говорит о ее важности\n",
        "\n",
        "Работет плохо при наличии мультиколениарности. Это можно отчетливо видеть в случае, когда модель показывает хороший результат, но при это ни один фактор незначим."
      ],
      "metadata": {
        "id": "y2HeJVPOULT4"
      }
    },
    {
      "cell_type": "code",
      "source": [
        "from sklearn.inspection import permutation_importance\n",
        "from sklearn.ensemble import RandomForestClassifier\n",
        "\n",
        "forest = RandomForestClassifier(random_state=1).fit(X_train, y_train)\n",
        "permutation_importance(forest, X_test, y_test, n_repeats=5, random_state=1, n_jobs=-1)"
      ],
      "metadata": {
        "colab": {
          "base_uri": "https://localhost:8080/"
        },
        "id": "9LlvvVvFV1oq",
        "outputId": "606fdc6c-9230-4770-973b-84c150602b09"
      },
      "execution_count": 14,
      "outputs": [
        {
          "output_type": "execute_result",
          "data": {
            "text/plain": [
              "{'importances': array([[0.  , 0.  , 0.  , 0.  , 0.  ],\n",
              "        [0.02, 0.  , 0.  , 0.  , 0.  ],\n",
              "        [0.38, 0.4 , 0.3 , 0.32, 0.44],\n",
              "        [0.14, 0.2 , 0.18, 0.12, 0.16]]),\n",
              " 'importances_mean': array([0.   , 0.004, 0.368, 0.16 ]),\n",
              " 'importances_std': array([0.        , 0.008     , 0.05153639, 0.02828427])}"
            ]
          },
          "metadata": {},
          "execution_count": 14
        }
      ]
    },
    {
      "cell_type": "code",
      "source": [
        "from sklearn.inspection import permutation_importance\n",
        "from sklearn.linear_model import LogisticRegression\n",
        "\n",
        "log = LogisticRegression(random_state=1).fit(X_train, y_train)\n",
        "permutation_importance(log, X_test, y_test, n_repeats=5, random_state=1, n_jobs=-1)"
      ],
      "metadata": {
        "colab": {
          "base_uri": "https://localhost:8080/"
        },
        "id": "okRdRWNqWYd9",
        "outputId": "a15da573-8510-4841-c4f1-f8aabbd50975"
      },
      "execution_count": 15,
      "outputs": [
        {
          "output_type": "execute_result",
          "data": {
            "text/plain": [
              "{'importances': array([[0.02, 0.02, 0.02, 0.02, 0.02],\n",
              "        [0.  , 0.  , 0.  , 0.  , 0.  ],\n",
              "        [0.6 , 0.62, 0.54, 0.56, 0.72],\n",
              "        [0.18, 0.16, 0.16, 0.1 , 0.2 ]]),\n",
              " 'importances_mean': array([0.02 , 0.   , 0.608, 0.16 ]),\n",
              " 'importances_std': array([0.        , 0.        , 0.06273755, 0.0334664 ])}"
            ]
          },
          "metadata": {},
          "execution_count": 15
        }
      ]
    },
    {
      "cell_type": "markdown",
      "source": [
        ""
      ],
      "metadata": {
        "id": "VX9rr0L5W0He"
      }
    }
  ]
}